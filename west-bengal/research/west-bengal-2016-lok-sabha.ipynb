{
 "cells": [
  {
   "cell_type": "code",
   "execution_count": 1,
   "metadata": {},
   "outputs": [],
   "source": [
    "import requests\n",
    "from bs4 import BeautifulSoup\n",
    "\n",
    "import json"
   ]
  },
  {
   "cell_type": "code",
   "execution_count": 30,
   "metadata": {},
   "outputs": [],
   "source": [
    "payloadURL = 'http://myneta.info/westbengal2016/'\n",
    "scriptId = 'wb_2016_assembly'"
   ]
  },
  {
   "cell_type": "code",
   "execution_count": 31,
   "metadata": {},
   "outputs": [],
   "source": [
    "rawResponse = requests.get(payloadURL)\n",
    "soupParser = BeautifulSoup(rawResponse.content, 'html.parser')\n",
    "allTables = soupParser.find_all('table')"
   ]
  },
  {
   "cell_type": "code",
   "execution_count": 33,
   "metadata": {},
   "outputs": [],
   "source": [
    "tableCount= 0\n",
    "for dataTable in allTables:\n",
    "    tableHeaders= []\n",
    "    tableRows = []\n",
    "    oneRow = []\n",
    "    for singleRow in dataTable.find_all('tr'):\n",
    "        \n",
    "        # if its not a header\n",
    "        if not singleRow.find_all('th'):\n",
    "            for data in singleRow.find_all('td'):\n",
    "                payload = data.text.lstrip().rstrip()\n",
    "                if payload != '':\n",
    "                    oneRow.append(payload)\n",
    "        else:\n",
    "            if len(oneRow) > 0:\n",
    "                tableRows.append(oneRow)\n",
    "            tableHeaders.append(singleRow.find('th').text.lstrip().rstrip())\n",
    "            oneRow = []\n",
    "        \n",
    "\n",
    "    tableRows.append(oneRow)\n",
    "    \n",
    "    \n",
    "    # parse the data to JSON\n",
    "    myJson = {}\n",
    "    \n",
    "    for headingIndex in range(len(tableHeaders)):\n",
    "        myJson[tableHeaders[headingIndex]] = list(tableRows[headingIndex])\n",
    "    \n",
    "    \n",
    "    with open(scriptId + '_' + str(tableCount) + '.json', 'w+') as f:\n",
    "        json.dump(myJson, f)\n",
    "    \n",
    "    tableCount += 1"
   ]
  },
  {
   "cell_type": "code",
   "execution_count": null,
   "metadata": {},
   "outputs": [],
   "source": []
  }
 ],
 "metadata": {
  "kernelspec": {
   "display_name": "Python 3",
   "language": "python",
   "name": "python3"
  },
  "language_info": {
   "codemirror_mode": {
    "name": "ipython",
    "version": 3
   },
   "file_extension": ".py",
   "mimetype": "text/x-python",
   "name": "python",
   "nbconvert_exporter": "python",
   "pygments_lexer": "ipython3",
   "version": "3.5.2"
  }
 },
 "nbformat": 4,
 "nbformat_minor": 2
}
